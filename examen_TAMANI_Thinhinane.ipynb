{
  "nbformat": 4,
  "nbformat_minor": 0,
  "metadata": {
    "colab": {
      "name": "examen TAMANI Thinhinane",
      "provenance": [],
      "collapsed_sections": [],
      "toc_visible": true
    },
    "kernelspec": {
      "name": "python3",
      "display_name": "Python 3"
    },
    "language_info": {
      "name": "python"
    }
  },
  "cells": [
    {
      "cell_type": "code",
      "execution_count": null,
      "metadata": {
        "id": "42RSLZ4SoFv4"
      },
      "outputs": [],
      "source": [
        "# Question a\n",
        "def polynome():\n",
        "\n",
        "    number = int(input(\"Entrer numero pour calculer la fonction polynomiale \\n\"))\n",
        "    polynome = (number**3) - (1.5* number**2) - (6*number) + 5\n",
        "    print(\"polynome(\",number,\") = \",polynome)\n",
        "\n",
        "while 1 :\n",
        "   if __name__ == '__TAMANI__'\n",
        "       polynome() \n",
        "  # Quetion b\n",
        "  def factorial(number):\n",
        "      if number == 1:\n",
        "           return number\n",
        "      else: \n",
        "         return number * factorial(number - 1)\n",
        "\n",
        "while 1 :\n",
        "    if __name__ == '__TOTO__':\n",
        "       number = int(input(\"Entrer numero pour calculer le factoriel \\n\"))\n",
        "       print(\"factoriel(\",number,\") = \",factorial(number))\n",
        "#Question c\n",
        "def Fibunacci(number):\n",
        "   \n",
        "   if number <= 1:\n",
        "       return number\n",
        "    else:\n",
        "       return (Fibunacci(number-2))\n",
        "while 1 :\n",
        "  if __name__ = '__TITI__':\n",
        "    number = int(input(\"\\n Entrer un nombre : \\n\"))\n",
        "    print(\"La suite de Fibunacci est:\")\n",
        "    for number in range(number):\n",
        "       print(Fibunacci(number), end = \",\")\n",
        "\n",
        "\n",
        "\n",
        "\n",
        "\n",
        "def polynome():\n",
        "    try:\n",
        "        number = int(input(\"Entrer numéro pour calculer la fonction polynomiale \\n\"))\n",
        "if number is complex:\n",
        "     raise ValueError\n",
        "elif number < 0 or number >100000:\n",
        "     raise ValueError\n",
        "else:\n",
        "        polynome = (number**3) - (1.5* number**2) - (6*number) + 5\n",
        "        print(\"polynome(\",number,\") = \",polynome)\n",
        "except(TypeError):\n",
        "  print(\"on demande un nombre svp!!\")\n",
        "    polynome()        "
      ]
    },
    {
      "cell_type": "code",
      "source": [
        ""
      ],
      "metadata": {
        "id": "qEsopTfzA_MD"
      },
      "execution_count": null,
      "outputs": []
    },
    {
      "cell_type": "code",
      "source": [
        ""
      ],
      "metadata": {
        "id": "oG7RBez1A4zH"
      },
      "execution_count": null,
      "outputs": []
    },
    {
      "cell_type": "code",
      "source": [
        ""
      ],
      "metadata": {
        "id": "8SVtbl8D-wbl"
      },
      "execution_count": null,
      "outputs": []
    },
    {
      "cell_type": "code",
      "source": [
        ""
      ],
      "metadata": {
        "id": "6gzB23Eq-sGr"
      },
      "execution_count": null,
      "outputs": []
    },
    {
      "cell_type": "code",
      "source": [
        "\n",
        "def factorial(number):\n",
        "    if number == 1:\n",
        "       return number \n",
        "   else:\n",
        "      return number * factorial(number - 1)\n",
        "\n",
        "\n",
        "while 1 : \n",
        "   if __name__=='__TAMANI__':\n",
        "      number = int(input(\"Entrer numéro pour calculer le factoriel \\n\"))\n",
        "      print(\"factorielle(\",number,\") = \",factorial(number))"
      ],
      "metadata": {
        "id": "oPQX_dcs3ikc"
      },
      "execution_count": null,
      "outputs": []
    },
    {
      "cell_type": "code",
      "source": [
        "\n",
        "def factorial (number):\n",
        "    if number <= 1:\n",
        "      return number\n",
        "  else:\n",
        "    return (Fibunacci(number-1) + Fibunacci(number-2)\n",
        "\n",
        "while 1 :\n",
        "    if __name__ == '__main__':\n",
        "      number = int(input(\"\\n Entrer un nombre :  \\n\"))\n",
        "      print(\"La suite de Fibunacci est:\") \n",
        "      for number in range (number):\n",
        "          print(Fibunacci(number),end = \",\") \n"
      ],
      "metadata": {
        "id": "bQKlR7kwp2LA"
      },
      "execution_count": null,
      "outputs": []
    },
    {
      "cell_type": "code",
      "source": [
        ""
      ],
      "metadata": {
        "id": "vCxszqBfr8wt"
      },
      "execution_count": null,
      "outputs": []
    },
    {
      "cell_type": "code",
      "source": [
        ""
      ],
      "metadata": {
        "id": "ITeJYvjHuqc-"
      },
      "execution_count": null,
      "outputs": []
    }
  ]
}